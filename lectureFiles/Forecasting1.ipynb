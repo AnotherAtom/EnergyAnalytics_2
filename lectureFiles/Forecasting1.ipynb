{
 "cells": [
  {
   "cell_type": "markdown",
   "id": "16d324fa-e6f2-4788-afee-b2c999c8327f",
   "metadata": {},
   "source": [
    "## Forecasting Intro\n",
    "\n",
    "The goal of this script is to study the correlations between the PV generation time-series and other weather-related time-series. You will also explore auto-corellation in the PV generation time-series."
   ]
  },
  {
   "cell_type": "markdown",
   "id": "f7aa07f6-5fe1-403a-8bf4-8cd91790141a",
   "metadata": {},
   "source": [
    "### Loading the data"
   ]
  },
  {
   "cell_type": "code",
   "execution_count": 3,
   "id": "11c730b3-2c10-44b2-ae12-7362d6fa9665",
   "metadata": {},
   "outputs": [],
   "source": [
    "# Import the necessary packages\n",
    "%matplotlib inline\n",
    "import pandas as pd\n",
    "import os\n",
    "import matplotlib.pyplot as plt\n",
    "import datetime as dt\n",
    "import pandas as pd\n",
    "import statsmodels.api as sm\n",
    "from statsmodels.stats.outliers_influence import variance_inflation_factor\n",
    "\n",
    "###  Load prosumer data ###\n",
    "file_P = os.path.join(os.getcwd(),'ProsumerHourly_withUTC.csv')\n",
    "df_pro = pd.read_csv(file_P)\n",
    "df_pro[\"TimeUTC\"] = pd.to_datetime(df_pro[\"TimeUTC\"])\n",
    "df_pro = df_pro.loc[df_pro[\"TimeUTC\"].dt.year.isin([2022,2023])]\n",
    "df_pro = df_pro.reset_index(drop=True)\n",
    "df_pro.rename(columns={'Consumption': 'Load'}, inplace=True)\n",
    "df_pro.rename(columns={'TimeUTC': 'HourUTC'}, inplace=True)\n",
    "df_pro = df_pro[[\"HourUTC\",\"Load\",\"PV\"]]\n",
    "    \n",
    "###  Load weather data ###\n",
    "file_P = os.path.join(os.getcwd(),'WeatherData.csv')\n",
    "df_weather = pd.read_csv(file_P)\n",
    "df_weather[\"HourUTC\"] = pd.to_datetime(df_weather[\"HourUTC\"])\n",
    "df_weather = df_weather.loc[df_weather[\"HourUTC\"].dt.year.isin([2022,2023])]\n",
    "df_weather = df_weather.drop(df_weather.index[-1])\n",
    "\n",
    "### Merge the dataframes ###\n",
    "df_merged = pd.merge(df_pro, df_weather, on='HourUTC')\n",
    "df_merged = df_merged.drop(['index'], axis=1)\n",
    "\n",
    "df_merged.rename(columns={'snow_soiling_rooftop': 'snow', \n",
    "                          'clearsky_dhi': 'cs_dhi', \n",
    "                          'clearsky_dni': 'cs_dni',\n",
    "                          'clearsky_ghi': 'cs_ghi', \n",
    "                          'clearsky_gti': 'cs_gti',\n",
    "                          'cloud_opacity': 'opacity',\n",
    "                          'dewpoint_temp': 'dew_t'}, inplace=True)"
   ]
  },
  {
   "cell_type": "markdown",
   "id": "915b0ce8-d2df-4952-9841-d407c70a4acf",
   "metadata": {},
   "source": [
    "## Pearson correlation coefficients\n",
    "\n",
    "Now you can calculate the PCCs and see which predictors are more correlated with PV generation.\n",
    "\n",
    "* Some predictors have similar and high values\n",
    "* Consider a multiple linear regression model \n",
    "* Which predictor(s) would you use in your model?"
   ]
  },
  {
   "cell_type": "code",
   "execution_count": null,
   "id": "d8f7ebf2-0738-4c35-bec6-af9c7c87de57",
   "metadata": {},
   "outputs": [],
   "source": [
    "Corr = df_merged.drop(columns=[\"HourUTC\"]).corr(method='pearson')\n",
    "Corr = Corr.round(2)\n",
    "# Set maximum number of columns to display\n",
    "pd.set_option('display.width', 150)\n",
    "print(Corr)"
   ]
  },
  {
   "cell_type": "markdown",
   "id": "f564b00c-0e75-40a9-a1ed-47326200b6e6",
   "metadata": {},
   "source": [
    "## Plotting PV generation vs various predictors\n",
    "\n",
    "In the following you can filter a few days from the dataset and plot PV generation next to some potential predictors.\n",
    "\n",
    "* Do you see similarities in the time-series?\n",
    "* It is a good idea to normalize your values (this is already done)\n",
    "* Choose a few predictors to see next to the PV generation by writing the predictor name in the code below"
   ]
  },
  {
   "cell_type": "code",
   "execution_count": null,
   "id": "05cbef09-ea53-408a-af78-4c9741a2e05c",
   "metadata": {},
   "outputs": [],
   "source": [
    "# Choose predictor\n",
    "predictor = \"gti\"\n",
    "\n",
    "# Filter time-series\n",
    "t_s = pd.Timestamp(dt.datetime(2023, 7, 8, 0, 0, 0))\n",
    "t_e = pd.Timestamp(dt.datetime(2023, 7, 16, 23, 0, 0))\n",
    "df_week = df_merged.loc[(df_merged[\"HourUTC\"]>=t_s) & (df_merged[\"HourUTC\"]<=t_e)]\n",
    "\n",
    "# Plot\n",
    "plt.figure(figsize=(10, 6))\n",
    "plt.plot(df_week[\"HourUTC\"],df_week[\"PV\"]/(max(df_merged[\"PV\"])-min(df_merged[\"PV\"])),label=\"PV\")\n",
    "plt.plot(df_week[\"HourUTC\"], df_week[predictor]/(max(df_merged[predictor])-min(df_merged[predictor])),label=predictor)\n",
    "plt.xticks(pd.date_range(start=t_s, end=t_e, freq='2D'), rotation=45)\n",
    "plt.xlabel(\"Time\")\n",
    "plt.ylabel(\"Normalized values (-)\")\n",
    "plt.legend()  # Show legend\n",
    "plt.show()"
   ]
  },
  {
   "cell_type": "markdown",
   "id": "3ec41b1e-7903-4021-b70c-ad803dcf1015",
   "metadata": {},
   "source": [
    "## Visualizing correlation\n",
    "\n",
    "* You can use scatterplots to visualize the \"similarity\" between PV generation and other predictors.\n",
    "* Below you see the scatterplot of PV generation and gti\n",
    "* Check how the scatterplot looks for different predictors"
   ]
  },
  {
   "cell_type": "code",
   "execution_count": null,
   "id": "386211e2-3b95-46f4-b63f-59c825db70e1",
   "metadata": {},
   "outputs": [],
   "source": [
    "plt.figure(figsize=(4, 4))\n",
    "plt.scatter(df_merged[\"PV\"], df_merged[\"gti\"], s = 4)\n",
    "plt.xlabel(\"PV generation\")\n",
    "plt.ylabel(\"Co-variate\")\n",
    "plt.show()"
   ]
  },
  {
   "cell_type": "markdown",
   "id": "3feb10d7-2ed0-4df2-a4c7-1022a75a2621",
   "metadata": {},
   "source": [
    "### Collinearity\n",
    "\n",
    "* You may have noticed that a few predictors all have a high PCC\n",
    "* Does every predictor carry **new** information? Or is it largely the same information?\n",
    "* An extreme example of redundant information is a predictor which is simply another predictor multiplied by a constant number\n",
    "* This effect is called collinearity and you can read more on the book \"An Introduction to Statistical Learning\" 3.3.3 - (6) Collinearity"
   ]
  },
  {
   "cell_type": "markdown",
   "id": "67ad2da3-77be-4bb4-bf84-4c71f7d71580",
   "metadata": {},
   "source": [
    "## Correlation with lagged values\n",
    "\n",
    "* Apart from correlation of PV generation with weather features, you may find similarities between PV generation at different time steps\n",
    "* For example, between the current production $PV_t$ and that of one hour before $PV_{t-1}$ or two hours before $PV_{t-2}$\n",
    "* This is called **autocorrelation** because there is correlation between values in the **same** time-series\n",
    "\n",
    "The code below takes PV generation and adds lagged values as different columns and calculates correlation."
   ]
  },
  {
   "cell_type": "code",
   "execution_count": null,
   "id": "801518d2-d2f6-4e10-8db6-e26cfbf17dad",
   "metadata": {},
   "outputs": [],
   "source": [
    "df = df_merged.copy()\n",
    "df = df[[\"PV\"]]\n",
    "\n",
    "num_lags = 4  # Adjust this value as needed\n",
    "\n",
    "# Create lagged columns\n",
    "for i in range(1, num_lags + 1):\n",
    "    df[f'lag{i}'] = df['PV'].shift(i)\n",
    "\n",
    "# Add lagged values 1 and 2 days before\n",
    "df['lag24'] = df['PV'].shift(24)\n",
    "df['lag48'] = df['PV'].shift(48)\n",
    "\n",
    "# Drop rows with NaN values (due to shifting)\n",
    "df = df.dropna()\n",
    "\n",
    "Corr = df.corr(method='pearson')\n",
    "Corr = Corr.round(2)\n",
    "print(Corr)\n",
    "\n",
    "# Plot the scatterplot of PV generation and its lagged1 value\n",
    "plt.figure(figsize=(2, 2))\n",
    "plt.scatter(df[\"PV\"], df[\"lag1\"], s = 4)\n",
    "plt.xlabel(\"PV generation\")\n",
    "plt.ylabel(\"Lag1 of PV generation\")\n",
    "plt.show()"
   ]
  },
  {
   "cell_type": "markdown",
   "id": "c95615df-bbf5-4405-b0d3-29bac1e4fd52",
   "metadata": {},
   "source": [
    "## Discussion\n",
    "\n",
    "Based on the analysis you carried out, discuss the following with your colleagues:\n",
    "\n",
    "* How would you use all this information to forecast PV generation?\n",
    "* What predictors would you use?\n",
    "* Do you think all predictors are useful, or some carry redundant information (due to Collinearity)?\n",
    "* What is the fundamental difference in using lagged values and external predictors (like irradiance, cloud opacity etc.)?"
   ]
  }
 ],
 "metadata": {
  "kernelspec": {
   "display_name": "Python 3 (ipykernel)",
   "language": "python",
   "name": "python3"
  },
  "language_info": {
   "codemirror_mode": {
    "name": "ipython",
    "version": 3
   },
   "file_extension": ".py",
   "mimetype": "text/x-python",
   "name": "python",
   "nbconvert_exporter": "python",
   "pygments_lexer": "ipython3",
   "version": "3.11.7"
  }
 },
 "nbformat": 4,
 "nbformat_minor": 5
}
