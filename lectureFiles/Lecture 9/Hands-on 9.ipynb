{
 "cells": [
  {
   "cell_type": "markdown",
   "metadata": {},
   "source": [
    "Hands-On Lecture 9"
   ]
  },
  {
   "cell_type": "markdown",
   "metadata": {},
   "source": [
    "We start by loading the data into dataframes."
   ]
  },
  {
   "cell_type": "code",
   "execution_count": 2,
   "metadata": {},
   "outputs": [],
   "source": [
    "# Import the necessary packages\n",
    "%matplotlib inline\n",
    "import pandas as pd\n",
    "import os\n",
    "import matplotlib.pyplot as plt\n",
    "import datetime as dt\n",
    "import numpy as np\n",
    "# import statsmodels.api as sm\n",
    "# from statsmodels.stats.outliers_influence import variance_inflation_factor\n",
    "\n",
    "###  Load prosumer data ###\n",
    "file_P = os.path.join(os.getcwd(),'ProsumerHourly_withUTC - Copy.csv')\n",
    "df_pro = pd.read_csv(file_P)\n",
    "df_pro[\"TimeUTC\"] = pd.to_datetime(df_pro[\"TimeUTC\"])\n",
    "df_pro = df_pro.loc[df_pro[\"TimeUTC\"].dt.year.isin([2022,2023])]\n",
    "df_pro = df_pro.reset_index(drop=True)\n",
    "df_pro.rename(columns={'Consumption': 'Load'}, inplace=True)\n",
    "df_pro.rename(columns={'TimeUTC': 'HourUTC'}, inplace=True)\n",
    "df_pro = df_pro[[\"HourUTC\",\"Load\",\"PV\"]]\n",
    "    \n",
    "###  Load weather data ###\n",
    "file_P = os.path.join(os.getcwd(),'WeatherData - Copy - Copy.csv')\n",
    "df_weather = pd.read_csv(file_P)\n",
    "df_weather[\"HourUTC\"] = pd.to_datetime(df_weather[\"HourUTC\"])\n",
    "df_weather = df_weather.loc[df_weather[\"HourUTC\"].dt.year.isin([2022,2023])]\n",
    "df_weather = df_weather.drop(df_weather.index[-1])\n",
    "\n",
    "### Merge the dataframes ###\n",
    "df_merged = pd.merge(df_pro, df_weather, on='HourUTC')\n",
    "df_merged = df_merged.drop(['index'], axis=1)\n",
    "\n",
    "df_merged.rename(columns={'snow_soiling_rooftop': 'snow', \n",
    "                          'clearsky_dhi': 'cs_dhi', \n",
    "                          'clearsky_dni': 'cs_dni',\n",
    "                          'clearsky_ghi': 'cs_ghi', \n",
    "                          'clearsky_gti': 'cs_gti',\n",
    "                          'cloud_opacity': 'opacity',\n",
    "                          'dewpoint_temp': 'dew_t'}, inplace=True)"
   ]
  },
  {
   "cell_type": "markdown",
   "metadata": {},
   "source": [
    "Here, we plot the data for a time-specific period"
   ]
  },
  {
   "cell_type": "code",
   "execution_count": 5,
   "metadata": {},
   "outputs": [
    {
     "data": {
      "text/plain": [
       "Text(0, 0.5, 'Consumption (kW)')"
      ]
     },
     "execution_count": 5,
     "metadata": {},
     "output_type": "execute_result"
    },
    {
     "data": {
      "image/png": "[encoded data removed]",
      "text/plain": [
       "<Figure size 600x400 with 1 Axes>"
      ]
     },
     "metadata": {
      "needs_background": "light"
     },
     "output_type": "display_data"
    }
   ],
   "source": [
    "# Define the period on which you want to build your LSTM model\n",
    "\n",
    "# Bro I just selected the whole file, like WHAT!?\n",
    "t_s = pd.Timestamp(dt.datetime(2022, 1, 1, 0, 0, 0))\n",
    "t_e = pd.Timestamp(dt.datetime(2023, 12, 31, 23, 0, 0))\n",
    "\n",
    "data = df_merged.loc[(df_merged['HourUTC'] >= t_s) & (df_merged['HourUTC'] <= t_e)]\n",
    "data = data.reset_index(drop=True)\n",
    "\n",
    "plt.figure(figsize=(6, 4), dpi=100)\n",
    "plt.plot(data['Load'])\n",
    "plt.title('Consumption')\n",
    "plt.xlabel('Hour')\n",
    "plt.ylabel('Consumption (kW)')"
   ]
  },
  {
   "cell_type": "markdown",
   "metadata": {},
   "source": [
    "Predict the consumption 1 hour ahead"
   ]
  },
  {
   "cell_type": "markdown",
   "metadata": {},
   "source": [
    "Split the dataset in a training, validation and test data set"
   ]
  },
  {
   "cell_type": "code",
   "execution_count": 6,
   "metadata": {},
   "outputs": [
    {
     "ename": "SyntaxError",
     "evalue": "invalid syntax (1982814824.py, line 4)",
     "output_type": "error",
     "traceback": [
      "\u001b[1;36m  Input \u001b[1;32mIn [6]\u001b[1;36m\u001b[0m\n\u001b[1;33m    look_back =  # Number of previous time steps to use as input features\u001b[0m\n\u001b[1;37m                 ^\u001b[0m\n\u001b[1;31mSyntaxError\u001b[0m\u001b[1;31m:\u001b[0m invalid syntax\n"
     ]
    }
   ],
   "source": [
    "from sklearn.preprocessing import MinMaxScaler\n",
    "sc = MinMaxScaler(feature_range=(0, 1))\n",
    "data_scaled = sc.fit_transform(data['Load'].values.reshape(-1,1))\n",
    "look_back =  # Number of previous time steps to use as input features\n",
    "look_ahead = # Number of time steps to look ahead\n",
    "\n",
    "training_rate = \n",
    "split_index = int((len(data)-look_back-look_ahead)*training_rate)\n",
    "validation_rate = \n",
    "split_val_index = int((training_rate+validation_rate)*(len(data)-look_ahead-look_back))\n",
    "testing_rate = \n",
    "\n",
    "from keras.models import Sequential\n",
    "from keras.layers import LSTM, Dense\n",
    "# Prepare data for LSTM\n",
    "\n",
    "# Prepare training data\n",
    "X_train, y_train = [], []\n",
    "for i in range(look_back+look_ahead, split_index):\n",
    "    X_train.append(data_scaled[i-look_ahead-look_back:i-look_ahead, 0])\n",
    "    y_train.append(data_scaled[i-look_ahead:i, 0])\n",
    "X_train, y_train = np.array(X_train), np.array(y_train)\n",
    "\n",
    "X_val, y_val = [], []\n",
    "# Prepare validation data\n",
    "for i in range(split_index+look_ahead, split_val_index):\n",
    "    X_val.append(data_scaled[i - look_ahead - look_back:i - look_ahead, 0])\n",
    "    y_val.append(data_scaled[i - look_ahead:i, 0])\n",
    "X_val, y_val =  np.array(X_val), np.array(y_val)\n",
    "\n",
    "# Predict on the remaining data\n",
    "X_test, y_test = [], []\n",
    "for i in range(split_val_index+look_ahead, len(data_scaled)+look_ahead):\n",
    "    X_test.append(data_scaled[i-look_ahead-look_back:i-look_ahead, 0])\n",
    "    y_test.append(data_scaled[i-look_ahead:i, 0])\n",
    "X_test, y_test = np.array(X_test), np.array(y_test)\n",
    "\n",
    "n_train = len(X_train)\n",
    "n_val = len(X_val)\n",
    "n_test = len(X_test)\n",
    "n_data = len(data)\n",
    "\n",
    "print(f'Size training data: {n_train}, Size validation set: {n_val}, Size testing data: {n_test}, Size data: {n_data}')\n",
    "\n",
    "plt.figure(figsize=(6, 4), dpi=100)\n",
    "plt.plot(np.arange(look_back+look_ahead,n_train+look_back+look_ahead), y_train)\n",
    "plt.plot(np.arange(n_train+look_ahead+look_back, n_train+n_val+look_back+look_ahead), y_val)\n",
    "plt.plot(np.arange(n_train+n_val+look_ahead+look_back, n_data-look_ahead), y_test)\n",
    "plt.legend([\"Training set\", \"Validation set\", \"Testing set\"])\n",
    "plt.grid(alpha=0.25)\n",
    "plt.ylabel(\"Consumption (kW)\")\n",
    "plt.xlabel(\"Hour\")\n",
    "plt.tight_layout()"
   ]
  },
  {
   "cell_type": "markdown",
   "metadata": {},
   "source": [
    "Build the LSTM model"
   ]
  },
  {
   "cell_type": "code",
   "execution_count": null,
   "metadata": {},
   "outputs": [],
   "source": [
    "from keras.models import Sequential\n",
    "from keras.layers import LSTM, Dense, Dropout\n",
    "\n",
    "\n",
    "# Reshape input data for LSTM [samples, time steps, features]\n",
    "X_train = np.reshape(X_train, (X_train.shape[0], X_train.shape[1], 1))\n",
    "X_val = np.reshape(X_val, (X_val.shape[0], X_val.shape[1], 1))\n",
    "\n",
    "# Build LSTM model\n",
    "model = Sequential()\n",
    "model.add(LSTM(units=50, return_sequences=True, input_shape=(X_train.shape[1], 1)))\n",
    "\n",
    "model.add(LSTM(units=50))\n",
    "model.add(Dense(units=1))\n",
    "\n",
    "model.compile(optimizer='adam', loss='mean_squared_error')\n",
    "\n",
    "# Train the model\n",
    "history = model.fit(X_train, y_train, epochs=, batch_size=, validation_data=(X_val, y_val))\n",
    "\n",
    "X_test = np.reshape(X_test, (X_test.shape[0], X_test.shape[1], 1))\n",
    "y_pred = model.predict(X_test)"
   ]
  },
  {
   "cell_type": "markdown",
   "metadata": {},
   "source": [
    "Plot the predicted consumption vs the actual consumption."
   ]
  },
  {
   "cell_type": "code",
   "execution_count": 87,
   "metadata": {},
   "outputs": [
    {
     "ename": "ValueError",
     "evalue": "x and y must have same first dimension, but have shapes (618,) and (386, 1)",
     "output_type": "error",
     "traceback": [
      "\u001b[1;31m---------------------------------------------------------------------------\u001b[0m",
      "\u001b[1;31mValueError\u001b[0m                                Traceback (most recent call last)",
      "Cell \u001b[1;32mIn[87], line 2\u001b[0m\n\u001b[0;32m      1\u001b[0m predicted_consumption \u001b[38;5;241m=\u001b[39m sc\u001b[38;5;241m.\u001b[39minverse_transform(y_pred)\n\u001b[1;32m----> 2\u001b[0m \u001b[43mplt\u001b[49m\u001b[38;5;241;43m.\u001b[39;49m\u001b[43mplot\u001b[49m\u001b[43m(\u001b[49m\u001b[43mnp\u001b[49m\u001b[38;5;241;43m.\u001b[39;49m\u001b[43marange\u001b[49m\u001b[43m(\u001b[49m\u001b[43msplit_index\u001b[49m\u001b[38;5;241;43m-\u001b[39;49m\u001b[43mlook_back\u001b[49m\u001b[43m,\u001b[49m\u001b[43m \u001b[49m\u001b[38;5;28;43mlen\u001b[39;49m\u001b[43m(\u001b[49m\u001b[43mdata\u001b[49m\u001b[43m)\u001b[49m\u001b[43m)\u001b[49m\u001b[43m,\u001b[49m\u001b[43m \u001b[49m\u001b[43mpredicted_consumption\u001b[49m\u001b[43m,\u001b[49m\u001b[43m \u001b[49m\u001b[43mlabel\u001b[49m\u001b[38;5;241;43m=\u001b[39;49m\u001b[38;5;124;43m'\u001b[39;49m\u001b[38;5;124;43mPredicted Consumption\u001b[39;49m\u001b[38;5;124;43m'\u001b[39;49m\u001b[43m)\u001b[49m\n\u001b[0;32m      3\u001b[0m plt\u001b[38;5;241m.\u001b[39mplot(data[\u001b[38;5;124m'\u001b[39m\u001b[38;5;124mLoad\u001b[39m\u001b[38;5;124m'\u001b[39m][split_index\u001b[38;5;241m-\u001b[39mlook_back:], label\u001b[38;5;241m=\u001b[39m\u001b[38;5;124m'\u001b[39m\u001b[38;5;124mActual Consumption\u001b[39m\u001b[38;5;124m'\u001b[39m)\n\u001b[0;32m      4\u001b[0m plt\u001b[38;5;241m.\u001b[39mxlabel(\u001b[38;5;124m'\u001b[39m\u001b[38;5;124mHour\u001b[39m\u001b[38;5;124m'\u001b[39m)\n",
      "File \u001b[1;32mc:\\Users\\emijo\\AppData\\Local\\anaconda3\\envs\\lstm\\lib\\site-packages\\matplotlib\\pyplot.py:3019\u001b[0m, in \u001b[0;36mplot\u001b[1;34m(scalex, scaley, data, *args, **kwargs)\u001b[0m\n\u001b[0;32m   3017\u001b[0m \u001b[38;5;129m@_copy_docstring_and_deprecators\u001b[39m(Axes\u001b[38;5;241m.\u001b[39mplot)\n\u001b[0;32m   3018\u001b[0m \u001b[38;5;28;01mdef\u001b[39;00m \u001b[38;5;21mplot\u001b[39m(\u001b[38;5;241m*\u001b[39margs, scalex\u001b[38;5;241m=\u001b[39m\u001b[38;5;28;01mTrue\u001b[39;00m, scaley\u001b[38;5;241m=\u001b[39m\u001b[38;5;28;01mTrue\u001b[39;00m, data\u001b[38;5;241m=\u001b[39m\u001b[38;5;28;01mNone\u001b[39;00m, \u001b[38;5;241m*\u001b[39m\u001b[38;5;241m*\u001b[39mkwargs):\n\u001b[1;32m-> 3019\u001b[0m     \u001b[38;5;28;01mreturn\u001b[39;00m \u001b[43mgca\u001b[49m\u001b[43m(\u001b[49m\u001b[43m)\u001b[49m\u001b[38;5;241;43m.\u001b[39;49m\u001b[43mplot\u001b[49m\u001b[43m(\u001b[49m\n\u001b[0;32m   3020\u001b[0m \u001b[43m        \u001b[49m\u001b[38;5;241;43m*\u001b[39;49m\u001b[43margs\u001b[49m\u001b[43m,\u001b[49m\u001b[43m \u001b[49m\u001b[43mscalex\u001b[49m\u001b[38;5;241;43m=\u001b[39;49m\u001b[43mscalex\u001b[49m\u001b[43m,\u001b[49m\u001b[43m \u001b[49m\u001b[43mscaley\u001b[49m\u001b[38;5;241;43m=\u001b[39;49m\u001b[43mscaley\u001b[49m\u001b[43m,\u001b[49m\n\u001b[0;32m   3021\u001b[0m \u001b[43m        \u001b[49m\u001b[38;5;241;43m*\u001b[39;49m\u001b[38;5;241;43m*\u001b[39;49m\u001b[43m(\u001b[49m\u001b[43m{\u001b[49m\u001b[38;5;124;43m\"\u001b[39;49m\u001b[38;5;124;43mdata\u001b[39;49m\u001b[38;5;124;43m\"\u001b[39;49m\u001b[43m:\u001b[49m\u001b[43m \u001b[49m\u001b[43mdata\u001b[49m\u001b[43m}\u001b[49m\u001b[43m \u001b[49m\u001b[38;5;28;43;01mif\u001b[39;49;00m\u001b[43m \u001b[49m\u001b[43mdata\u001b[49m\u001b[43m \u001b[49m\u001b[38;5;129;43;01mis\u001b[39;49;00m\u001b[43m \u001b[49m\u001b[38;5;129;43;01mnot\u001b[39;49;00m\u001b[43m \u001b[49m\u001b[38;5;28;43;01mNone\u001b[39;49;00m\u001b[43m \u001b[49m\u001b[38;5;28;43;01melse\u001b[39;49;00m\u001b[43m \u001b[49m\u001b[43m{\u001b[49m\u001b[43m}\u001b[49m\u001b[43m)\u001b[49m\u001b[43m,\u001b[49m\u001b[43m \u001b[49m\u001b[38;5;241;43m*\u001b[39;49m\u001b[38;5;241;43m*\u001b[39;49m\u001b[43mkwargs\u001b[49m\u001b[43m)\u001b[49m\n",
      "File \u001b[1;32mc:\\Users\\emijo\\AppData\\Local\\anaconda3\\envs\\lstm\\lib\\site-packages\\matplotlib\\axes\\_axes.py:1605\u001b[0m, in \u001b[0;36mAxes.plot\u001b[1;34m(self, scalex, scaley, data, *args, **kwargs)\u001b[0m\n\u001b[0;32m   1363\u001b[0m \u001b[38;5;250m\u001b[39m\u001b[38;5;124;03m\"\"\"\u001b[39;00m\n\u001b[0;32m   1364\u001b[0m \u001b[38;5;124;03mPlot y versus x as lines and/or markers.\u001b[39;00m\n\u001b[0;32m   1365\u001b[0m \n\u001b[1;32m   (...)\u001b[0m\n\u001b[0;32m   1602\u001b[0m \u001b[38;5;124;03m(``'green'``) or hex strings (``'#008000'``).\u001b[39;00m\n\u001b[0;32m   1603\u001b[0m \u001b[38;5;124;03m\"\"\"\u001b[39;00m\n\u001b[0;32m   1604\u001b[0m kwargs \u001b[38;5;241m=\u001b[39m cbook\u001b[38;5;241m.\u001b[39mnormalize_kwargs(kwargs, mlines\u001b[38;5;241m.\u001b[39mLine2D)\n\u001b[1;32m-> 1605\u001b[0m lines \u001b[38;5;241m=\u001b[39m [\u001b[38;5;241m*\u001b[39m\u001b[38;5;28mself\u001b[39m\u001b[38;5;241m.\u001b[39m_get_lines(\u001b[38;5;241m*\u001b[39margs, data\u001b[38;5;241m=\u001b[39mdata, \u001b[38;5;241m*\u001b[39m\u001b[38;5;241m*\u001b[39mkwargs)]\n\u001b[0;32m   1606\u001b[0m \u001b[38;5;28;01mfor\u001b[39;00m line \u001b[38;5;129;01min\u001b[39;00m lines:\n\u001b[0;32m   1607\u001b[0m     \u001b[38;5;28mself\u001b[39m\u001b[38;5;241m.\u001b[39madd_line(line)\n",
      "File \u001b[1;32mc:\\Users\\emijo\\AppData\\Local\\anaconda3\\envs\\lstm\\lib\\site-packages\\matplotlib\\axes\\_base.py:315\u001b[0m, in \u001b[0;36m_process_plot_var_args.__call__\u001b[1;34m(self, data, *args, **kwargs)\u001b[0m\n\u001b[0;32m    313\u001b[0m     this \u001b[38;5;241m+\u001b[39m\u001b[38;5;241m=\u001b[39m args[\u001b[38;5;241m0\u001b[39m],\n\u001b[0;32m    314\u001b[0m     args \u001b[38;5;241m=\u001b[39m args[\u001b[38;5;241m1\u001b[39m:]\n\u001b[1;32m--> 315\u001b[0m \u001b[38;5;28;01myield from\u001b[39;00m \u001b[38;5;28;43mself\u001b[39;49m\u001b[38;5;241;43m.\u001b[39;49m\u001b[43m_plot_args\u001b[49m\u001b[43m(\u001b[49m\u001b[43mthis\u001b[49m\u001b[43m,\u001b[49m\u001b[43m \u001b[49m\u001b[43mkwargs\u001b[49m\u001b[43m)\u001b[49m\n",
      "File \u001b[1;32mc:\\Users\\emijo\\AppData\\Local\\anaconda3\\envs\\lstm\\lib\\site-packages\\matplotlib\\axes\\_base.py:501\u001b[0m, in \u001b[0;36m_process_plot_var_args._plot_args\u001b[1;34m(self, tup, kwargs, return_kwargs)\u001b[0m\n\u001b[0;32m    498\u001b[0m     \u001b[38;5;28mself\u001b[39m\u001b[38;5;241m.\u001b[39maxes\u001b[38;5;241m.\u001b[39myaxis\u001b[38;5;241m.\u001b[39mupdate_units(y)\n\u001b[0;32m    500\u001b[0m \u001b[38;5;28;01mif\u001b[39;00m x\u001b[38;5;241m.\u001b[39mshape[\u001b[38;5;241m0\u001b[39m] \u001b[38;5;241m!=\u001b[39m y\u001b[38;5;241m.\u001b[39mshape[\u001b[38;5;241m0\u001b[39m]:\n\u001b[1;32m--> 501\u001b[0m     \u001b[38;5;28;01mraise\u001b[39;00m \u001b[38;5;167;01mValueError\u001b[39;00m(\u001b[38;5;124mf\u001b[39m\u001b[38;5;124m\"\u001b[39m\u001b[38;5;124mx and y must have same first dimension, but \u001b[39m\u001b[38;5;124m\"\u001b[39m\n\u001b[0;32m    502\u001b[0m                      \u001b[38;5;124mf\u001b[39m\u001b[38;5;124m\"\u001b[39m\u001b[38;5;124mhave shapes \u001b[39m\u001b[38;5;132;01m{\u001b[39;00mx\u001b[38;5;241m.\u001b[39mshape\u001b[38;5;132;01m}\u001b[39;00m\u001b[38;5;124m and \u001b[39m\u001b[38;5;132;01m{\u001b[39;00my\u001b[38;5;241m.\u001b[39mshape\u001b[38;5;132;01m}\u001b[39;00m\u001b[38;5;124m\"\u001b[39m)\n\u001b[0;32m    503\u001b[0m \u001b[38;5;28;01mif\u001b[39;00m x\u001b[38;5;241m.\u001b[39mndim \u001b[38;5;241m>\u001b[39m \u001b[38;5;241m2\u001b[39m \u001b[38;5;129;01mor\u001b[39;00m y\u001b[38;5;241m.\u001b[39mndim \u001b[38;5;241m>\u001b[39m \u001b[38;5;241m2\u001b[39m:\n\u001b[0;32m    504\u001b[0m     \u001b[38;5;28;01mraise\u001b[39;00m \u001b[38;5;167;01mValueError\u001b[39;00m(\u001b[38;5;124mf\u001b[39m\u001b[38;5;124m\"\u001b[39m\u001b[38;5;124mx and y can be no greater than 2D, but have \u001b[39m\u001b[38;5;124m\"\u001b[39m\n\u001b[0;32m    505\u001b[0m                      \u001b[38;5;124mf\u001b[39m\u001b[38;5;124m\"\u001b[39m\u001b[38;5;124mshapes \u001b[39m\u001b[38;5;132;01m{\u001b[39;00mx\u001b[38;5;241m.\u001b[39mshape\u001b[38;5;132;01m}\u001b[39;00m\u001b[38;5;124m and \u001b[39m\u001b[38;5;132;01m{\u001b[39;00my\u001b[38;5;241m.\u001b[39mshape\u001b[38;5;132;01m}\u001b[39;00m\u001b[38;5;124m\"\u001b[39m)\n",
      "\u001b[1;31mValueError\u001b[0m: x and y must have same first dimension, but have shapes (618,) and (386, 1)"
     ]
    },
    {
     "data": {
      "image/png": "[encoded data removed]",
      "text/plain": [
       "<Figure size 640x480 with 1 Axes>"
      ]
     },
     "metadata": {},
     "output_type": "display_data"
    }
   ],
   "source": [
    "predicted_consumption = sc.inverse_transform(y_pred)\n",
    "plt.plot(np.arange(n_train+n_val+look_back+look_ahead, n_data-look_ahead), predicted_consumption, label='Predicted Consumption')\n",
    "plt.plot(data['Load'][n_train+n_val+look_ahead+look_back:n_data-look_ahead], label='Actual Consumption')\n",
    "# plt.plot(data['Load'][:n_train+n_val+look_ahead+look_back], label = 'Historical consumption')\n",
    "plt.xlabel('Hour')\n",
    "plt.ylabel('Consumption (kW)')\n",
    "plt.legend()"
   ]
  },
  {
   "cell_type": "markdown",
   "metadata": {},
   "source": [
    "Plot your training and validation loss"
   ]
  },
  {
   "cell_type": "code",
   "execution_count": null,
   "metadata": {},
   "outputs": [],
   "source": [
    "# Plot training and validation loss\n",
    "plt.figure(figsize=(8, 6))\n",
    "plt.plot(history.history['loss'], label='Training Loss')\n",
    "plt.plot(history.history['val_loss'], label='Validation Loss')\n",
    "plt.title('Training and Validation Loss vs. Epochs')\n",
    "plt.xlabel('Epochs')\n",
    "plt.ylabel('Loss')\n",
    "plt.legend()\n",
    "plt.grid(True)\n",
    "plt.show()"
   ]
  },
  {
   "cell_type": "markdown",
   "metadata": {},
   "source": [
    "Evaluate your model using the following metrics:"
   ]
  },
  {
   "cell_type": "code",
   "execution_count": null,
   "metadata": {},
   "outputs": [],
   "source": [
    "## Metrics to evaluate the performance of your model\n",
    "from sklearn.metrics import mean_squared_error, mean_absolute_error, r2_score\n",
    "from keras.models import load_model\n",
    "mse = mean_squared_error(y_test, y_pred)\n",
    "mae = mean_absolute_error(y_test, y_pred)\n",
    "rmse = np.sqrt(mse)\n",
    "r2 = r2_score(y_test, y_pred)\n",
    "\n",
    "print(\"Mean Squared Error (MSE):\", mse)\n",
    "print(\"Mean Absolute Error (MAE):\", mae)\n",
    "print(\"Root Mean Squared Error (RMSE):\", rmse)\n",
    "print(\"R-squared (R2) Score:\", r2)\n"
   ]
  },
  {
   "cell_type": "markdown",
   "metadata": {},
   "source": [
    "Train a new model using dropout and the ReLU activation function. "
   ]
  },
  {
   "cell_type": "code",
   "execution_count": null,
   "metadata": {},
   "outputs": [],
   "source": [
    "from keras.models import Sequential\n",
    "from keras.layers import LSTM, Dense, Dropout\n",
    "from keras.activations import relu\n",
    "\n",
    "dropout = \n",
    "\n",
    "# Reshape input data for LSTM [samples, time steps, features]\n",
    "X_train = np.reshape(X_train, (X_train.shape[0], X_train.shape[1], 1))\n",
    "X_val = np.reshape(X_val, (X_val.shape[0], X_val.shape[1], 1))\n",
    "\n",
    "# Build LSTM model\n",
    "model = Sequential()\n",
    "model.add(LSTM(units=50, return_sequences=True, input_shape=(X_train.shape[1], 1), activation=, recurrent_dropout=dropout, dropout=dropout))\n",
    "model.add(Dropout(dropout))\n",
    "\n",
    "model.add(LSTM(units=50))\n",
    "model.add(Dense(units=1))\n",
    "\n",
    "model.compile(optimizer='adam', loss='mean_squared_error')\n",
    "\n",
    "# Train the model\n",
    "history = model.fit(X_train, y_train, epochs=, batch_size=, validation_data=(X_val, y_val))\n",
    "\n",
    "X_test = np.reshape(X_test, (X_test.shape[0], X_test.shape[1], 1))\n",
    "y_pred = model.predict(X_test)"
   ]
  },
  {
   "cell_type": "code",
   "execution_count": null,
   "metadata": {},
   "outputs": [],
   "source": [
    "# Plot training and validation loss\n",
    "plt.figure(figsize=(8, 6))\n",
    "plt.plot(history.history['loss'], label='Training Loss')\n",
    "plt.plot(history.history['val_loss'], label='Validation Loss')\n",
    "plt.title('Training and Validation Loss vs. Epochs')\n",
    "plt.xlabel('Epochs')\n",
    "plt.ylabel('Loss')\n",
    "plt.legend()\n",
    "plt.grid(True)\n",
    "plt.show()"
   ]
  },
  {
   "cell_type": "code",
   "execution_count": null,
   "metadata": {},
   "outputs": [],
   "source": [
    "## Metrics to evaluate the performance of your model\n",
    "from sklearn.metrics import mean_squared_error, mean_absolute_error, r2_score\n",
    "from keras.models import load_model\n",
    "mse = mean_squared_error(y_test, y_pred)\n",
    "mae = mean_absolute_error(y_test, y_pred)\n",
    "rmse = np.sqrt(mse)\n",
    "r2 = r2_score(y_test, y_pred)\n",
    "\n",
    "print(\"Mean Squared Error (MSE):\", mse)\n",
    "print(\"Mean Absolute Error (MAE):\", mae)\n",
    "print(\"Root Mean Squared Error (RMSE):\", rmse)\n",
    "print(\"R-squared (R2) Score:\", r2)\n"
   ]
  },
  {
   "cell_type": "markdown",
   "metadata": {},
   "source": [
    "Now, predict the consumption 12 hours ahead"
   ]
  },
  {
   "cell_type": "code",
   "execution_count": null,
   "metadata": {},
   "outputs": [],
   "source": [
    "from sklearn.preprocessing import MinMaxScaler\n",
    "sc = MinMaxScaler(feature_range=(0, 1))\n",
    "data_scaled = sc.fit_transform(data['Load'].values.reshape(-1,1))\n",
    "split_index = int(len(data)*0.8)\n",
    "\n",
    "from keras.models import Sequential\n",
    "from keras.layers import LSTM, Dense\n",
    "# Prepare data for LSTM\n",
    "look_back =  # Number of previous time steps to use as input features\n",
    "look_ahead = \n",
    "from sklearn.preprocessing import MinMaxScaler\n",
    "sc = MinMaxScaler(feature_range=(0, 1))\n",
    "data_scaled = sc.fit_transform(data['Load'].values.reshape(-1,1))\n",
    "look_back =  # Number of previous time steps to use as input features\n",
    "look_ahead = # Number of time steps to look ahead\n",
    "\n",
    "\n",
    "# Define the ratios for training, validation and testing sets\n",
    "training_rate = \n",
    "validation_rate = \n",
    "testing_rate =\n",
    "\n",
    "\n",
    "split_index = int((len(data)-look_back-look_ahead)*training_rate)\n",
    "split_val_index = int((training_rate+validation_rate)*(len(data)-look_ahead-look_back))\n",
    "\n",
    "\n",
    "from keras.models import Sequential\n",
    "from keras.layers import LSTM, Dense\n",
    "\n",
    "# Prepare data for LSTM\n",
    "# Prepare training data\n",
    "X_train, y_train = [], []\n",
    "for i in range(look_back+look_ahead, split_index-look_ahead):\n",
    "    X_train.append(data_scaled[i-look_ahead-look_back:i-look_ahead, 0])\n",
    "    y_train.append(data_scaled[i-look_ahead:i, 0])\n",
    "X_train, y_train = np.array(X_train), np.array(y_train)\n",
    "\n",
    "X_val, y_val = [], []\n",
    "# Prepare validation data\n",
    "for i in range(split_index-look_ahead+1, split_val_index-look_ahead):\n",
    "    X_val.append(data_scaled[i - look_ahead - look_back:i - look_ahead, 0])\n",
    "    y_val.append(data_scaled[i - look_ahead:i, 0])\n",
    "X_val, y_val =  np.array(X_val), np.array(y_val)\n",
    "\n",
    "# Predict on the remaining data\n",
    "X_test, y_test = [], []\n",
    "for i in range(split_val_index-look_ahead+1, len(data_scaled)-look_ahead):\n",
    "    X_test.append(data_scaled[i-look_ahead-look_back:i-look_ahead, 0])\n",
    "    y_test.append(data_scaled[i-look_ahead:i, 0])\n",
    "X_test, y_test = np.array(X_test), np.array(y_test)\n",
    "\n",
    "n_train = len(X_train)\n",
    "n_val = len(X_val)\n",
    "n_test = len(X_test)\n",
    "n_data = len(data)\n",
    "\n",
    "print(f'Size training data: {n_train}, Size validation set: {n_val}, Size testing data: {n_test}, Size data: {n_data}')\n",
    "\n",
    "\n",
    "plt.figure(figsize=(6, 4), dpi=100)\n",
    "plt.plot(np.arange(look_back,look_back+look_ahead), y_train[0])\n",
    "plt.plot(np.arange(0, look_back), X_train[0])\n",
    "plt.plot(np.arange(split_index, split_index+look_back), X_val[0])\n",
    "plt.plot(np.arange(split_index+look_back, split_index+look_back+look_ahead), y_val[0])\n",
    "plt.plot(np.arange(split_val_index, split_val_index+look_back), X_test[0])\n",
    "plt.plot(np.arange(split_val_index+look_back, split_val_index+look_back+look_ahead), y_test[0])\n",
    "plt.legend([\"Training set, y\", \"Training set, X\", \"Validation set, X\", \"Validation set, y\",\"Testing set, X\", \"Testing set, y\"])\n",
    "plt.grid(alpha=0.25)\n",
    "plt.ylabel(\"Consumption (kW)\")\n",
    "plt.tight_layout()"
   ]
  },
  {
   "cell_type": "code",
   "execution_count": null,
   "metadata": {},
   "outputs": [],
   "source": [
    "from sklearn.preprocessing import MinMaxScaler\n",
    "sc = MinMaxScaler(feature_range=(0, 1))\n",
    "data_scaled = sc.fit_transform(data['Load'].values.reshape(-1,1))\n",
    "look_back =  # Number of previous time steps to use as input features\n",
    "look_ahead = \n",
    "\n",
    "training_rate = \n",
    "split_index = int((len(data))*training_rate)\n",
    "validation_rate = \n",
    "split_val_index = int((training_rate+validation_rate)*(len(data)))\n",
    "testing_rate = \n",
    "\n",
    "from keras.models import Sequential\n",
    "from keras.layers import LSTM, Dense\n",
    "\n",
    "X_train, y_train = [], []\n",
    "for i in range(look_back+look_ahead, split_index):\n",
    "    X_train.append(data_scaled[i-look_ahead-look_back:i-look_ahead, 0])\n",
    "    y_train.append(data_scaled[i-look_ahead:i, 0])\n",
    "X_train, y_train = np.array(X_train), np.array(y_train)\n",
    "\n",
    "X_val, y_val = [], []\n",
    "# Prepare validation data\n",
    "for i in range(split_index+look_ahead, split_val_index):\n",
    "    X_val.append(data_scaled[i - look_ahead - look_back:i - look_ahead, 0])\n",
    "    y_val.append(data_scaled[i - look_ahead:i, 0])\n",
    "X_val, y_val =  np.array(X_val), np.array(y_val)\n",
    "\n",
    "# Predict on the remaining data\n",
    "X_test, y_test = [], []\n",
    "for i in range(split_val_index+look_ahead, len(data_scaled)):\n",
    "    X_test.append(data_scaled[i-look_ahead-look_back:i-look_ahead, 0])\n",
    "    y_test.append(data_scaled[i-look_ahead:i, 0])\n",
    "X_test, y_test = np.array(X_test), np.array(y_test)\n",
    "\n",
    "\n",
    "n_train = len(X_train)\n",
    "n_val = len(X_val)\n",
    "n_test = len(X_test)\n",
    "n_data = len(data)\n",
    "\n",
    "print(f'Size training data: {n_train}, Size validation set: {n_val}, Size testing data: {n_test}, Size data: {n_data}')\n",
    "\n",
    "\n",
    "plt.figure(figsize=(6, 4), dpi=100)\n",
    "plt.plot(np.arange(look_back,look_back+look_ahead), y_train[0])\n",
    "plt.plot(np.arange(0, look_back), X_train[0])\n",
    "plt.plot(np.arange(split_index, split_index+look_back), X_val[0])\n",
    "plt.plot(np.arange(split_index+look_back, split_index+look_back+look_ahead), y_val[0])\n",
    "plt.plot(np.arange(split_val_index, split_val_index+look_back), X_test[0])\n",
    "plt.plot(np.arange(split_val_index+look_back, split_val_index+look_back+look_ahead), y_test[0])\n",
    "plt.legend([\"Training set, y\", \"Training set, X\", \"Validation set, X\", \"Validation set, y\",\"Testing set, X\", \"Testing set, y\"])\n",
    "plt.grid(alpha=0.25)\n",
    "plt.ylabel(\"Consumption (kW)\")\n",
    "plt.xlabel('Hour')\n",
    "plt.tight_layout()"
   ]
  },
  {
   "cell_type": "code",
   "execution_count": 57,
   "metadata": {},
   "outputs": [
    {
     "name": "stdout",
     "output_type": "stream",
     "text": [
      "Mean Squared Error (MSE): 0.01186806820891568\n",
      "Mean Absolute Error (MAE): 0.05465132788918211\n",
      "Root Mean Squared Error (RMSE): 0.10894066370697253\n",
      "R-squared (R2) Score: 0.17036669793231274\n"
     ]
    }
   ],
   "source": [
    "## Metrics to evaluate the performance of your model\n",
    "from sklearn.metrics import mean_squared_error, mean_absolute_error, r2_score\n",
    "from keras.models import load_model\n",
    "mse = mean_squared_error(y_test, y_pred)\n",
    "mae = mean_absolute_error(y_test, y_pred)\n",
    "rmse = np.sqrt(mse)\n",
    "r2 = r2_score(y_test, y_pred)\n",
    "\n",
    "print(\"Mean Squared Error (MSE):\", mse)\n",
    "print(\"Mean Absolute Error (MAE):\", mae)\n",
    "print(\"Root Mean Squared Error (RMSE):\", rmse)\n",
    "print(\"R-squared (R2) Score:\", r2)\n"
   ]
  },
  {
   "cell_type": "code",
   "execution_count": null,
   "metadata": {},
   "outputs": [],
   "source": [
    "from keras.models import Sequential\n",
    "from keras.layers import LSTM, Dense, Dropout, TimeDistributed\n",
    "\n",
    "\n",
    "# Reshape input data for LSTM [samples, time steps, features]\n",
    "X_train = np.reshape(X_train, (X_train.shape[0], X_train.shape[1], 1))\n",
    "X_val = np.reshape(X_val, (X_val.shape[0], X_val.shape[1], 1))\n",
    "\n",
    "# Build LSTM model\n",
    "model = Sequential()\n",
    "model.add(LSTM(units=50, return_sequences=True, input_shape=(X_train.shape[1], 1)))\n",
    "\n",
    "# # model.add(LSTM(units=50, return_sequences=True, input_shape=(X_train.shape[1], 1)))\n",
    "model.add(LSTM(units=50))\n",
    "model.add(Dense(units=look_ahead))\n",
    "\n",
    "model.compile(optimizer='adam', loss='mean_squared_error')\n",
    "\n",
    "# Train the model\n",
    "history = model.fit(X_train, y_train, epochs=100, batch_size=32, validation_data=(X_val, y_val))\n",
    "\n",
    "X_test = np.reshape(X_test, (X_test.shape[0], X_test.shape[1], 1))\n",
    "y_pred = model.predict(X_test)"
   ]
  },
  {
   "cell_type": "markdown",
   "metadata": {},
   "source": [
    "Predict the PV consumption, implement your own model."
   ]
  },
  {
   "cell_type": "code",
   "execution_count": null,
   "metadata": {},
   "outputs": [],
   "source": [
    "t_s =\n",
    "t_e = \n",
    "\n",
    "data = df_merged.loc[(df_merged['HourUTC']>=t_s) & (df_merged['HourUTC']<=t_e)]\n",
    "data = data.reset_index(drop=True)\n",
    "\n",
    "plt.figure(figsize=(6, 4), dpi=100)\n",
    "plt.plot(data['PV'])\n",
    "plt.title('PV Production')\n",
    "plt.xlabel('Hour')\n",
    "plt.ylabel('PV Production (kW)')"
   ]
  },
  {
   "cell_type": "code",
   "execution_count": 3,
   "metadata": {},
   "outputs": [],
   "source": [
    "### Train here your own model. Plot the predicted production"
   ]
  },
  {
   "cell_type": "markdown",
   "metadata": {},
   "source": [
    "Plot the correlation matrix"
   ]
  },
  {
   "cell_type": "code",
   "execution_count": null,
   "metadata": {},
   "outputs": [],
   "source": [
    "import seaborn as sns\n",
    "data_corr = data.drop(['HourUTC', 'Load'], axis=1)\n",
    "correlation_matrix = data_corr.corr()\n",
    "plt.figure(figsize=(8, 6))\n",
    "sns.heatmap(correlation_matrix, annot=True, cmap='coolwarm', fmt=\".2f\")\n",
    "plt.title('Correlation Matrix')\n",
    "plt.show()\n",
    "\n",
    "print(correlation_matrix['PV'])"
   ]
  },
  {
   "cell_type": "markdown",
   "metadata": {},
   "source": [
    "Add exogenous variables"
   ]
  },
  {
   "cell_type": "code",
   "execution_count": null,
   "metadata": {},
   "outputs": [],
   "source": [
    "from sklearn.preprocessing import MinMaxScaler\n",
    "sc = MinMaxScaler(feature_range=(0, 1))\n",
    "exog = ['PV', .., ... ] # Fill in the columns that you want to train the model on\n",
    "target = []\n",
    "data_scaled = sc.fit_transform(data[exog])\n",
    "target_scaled = sc.fit_transform(data[target])\n",
    "look_back =  # Number of previous time steps to use as input features\n",
    "look_ahead = \n",
    "\n",
    "training_rate = \n",
    "split_index = int((len(data)-look_back-look_ahead)*training_rate)\n",
    "validation_rate = \n",
    "split_val_index = int((training_rate+validation_rate)*(len(data)-look_ahead-look_back))\n",
    "testing_rate = \n",
    "\n",
    "from keras.models import Sequential\n",
    "from keras.layers import LSTM, Dense\n",
    "\n",
    "\n",
    "# Prepare training data\n",
    "X_train, y_train = [], []\n",
    "for i in range(look_back+look_ahead, split_index):\n",
    "    X_train.append(data_scaled[i-look_ahead-look_back:i-look_ahead, :])\n",
    "    y_train.append(data_scaled[i-look_ahead:i, 0])\n",
    "X_train, y_train = np.array(X_train), np.array(y_train)\n",
    "\n",
    "X_val, y_val = [], []\n",
    "# Prepare validation data\n",
    "for i in range(split_index+look_ahead, split_val_index):\n",
    "    X_val.append(data_scaled[i - look_ahead - look_back:i - look_ahead, :])\n",
    "    y_val.append(data_scaled[i - look_ahead:i, 0])\n",
    "X_val, y_val =  np.array(X_val), np.array(y_val)\n",
    "\n",
    "# Predict on the remaining data\n",
    "X_test, y_test = [], []\n",
    "for i in range(split_val_index+look_ahead, len(data)+look_ahead):\n",
    "    X_test.append(data_scaled[i-look_ahead-look_back:i-look_ahead, :])\n",
    "    y_test.append(data_scaled[i-look_ahead:i, 0])\n",
    "X_test, y_test = np.array(X_test), np.array(y_test)\n",
    "\n",
    "n_train = len(y_train)\n",
    "n_val = len(y_val)\n",
    "n_test = len(y_test)\n",
    "n_data = len(data)\n",
    "\n",
    "print(f'Size training data: {n_train}, Size validation set: {n_val}, Size testing data: {n_test}, Size data: {n_data}')\n",
    "\n",
    "\n",
    "# Reshape input data for LSTM [samples, time steps, features]\n",
    "X_train = np.reshape(X_train, (X_train.shape[0], X_train.shape[1],len(exog)))\n",
    "X_val = np.reshape(X_val, (X_val.shape[0], X_val.shape[1], len(exog)))\n",
    "\n"
   ]
  },
  {
   "cell_type": "code",
   "execution_count": null,
   "metadata": {},
   "outputs": [],
   "source": [
    "## Train here your own model. Use metrics to evaluate the performance"
   ]
  },
  {
   "cell_type": "code",
   "execution_count": null,
   "metadata": {},
   "outputs": [],
   "source": [
    "predicted_production = sc.inverse_transform(y_pred)\n",
    "plt.plot(np.arange(n_train+n_val+look_back+look_ahead, n_data-look_ahead), predicted_consumption, label='Predicted production')\n",
    "plt.plot(data['PV'][n_train+n_val+look_ahead+look_back:n_data-look_ahead], label='Actual production')\n",
    "plt.plot(data['PV'][:n_train+n_val+look_ahead+look_back], label = 'Historical production')\n",
    "plt.xlabel('Hour')\n",
    "plt.ylabel('Production (kW)')\n",
    "plt.legend()"
   ]
  }
 ],
 "metadata": {
  "kernelspec": {
   "display_name": "lstm",
   "language": "python",
   "name": "python3"
  },
  "language_info": {
   "codemirror_mode": {
    "name": "ipython",
    "version": 3
   },
   "file_extension": ".py",
   "mimetype": "text/x-python",
   "name": "python",
   "nbconvert_exporter": "python",
   "pygments_lexer": "ipython3",
   "version": "3.9.12"
  }
 },
 "nbformat": 4,
 "nbformat_minor": 2
}
